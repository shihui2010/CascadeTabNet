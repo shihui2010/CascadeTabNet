{
 "cells": [
  {
   "cell_type": "code",
   "execution_count": 1,
   "id": "a30808a6",
   "metadata": {},
   "outputs": [],
   "source": [
    "from mmdet.apis import init_detector, inference_detector, show_result_pyplot\n",
    "import mmcv\n",
    "import json\n",
    "import glob\n",
    "import numpy as np\n",
    "from tqdm import tqdm\n",
    "from PIL import Image, ImageColor, ImageFilter, ImageDraw\n",
    "import xml.etree.ElementTree as ET\n",
    "from tqdm import tqdm"
   ]
  },
  {
   "cell_type": "code",
   "execution_count": 2,
   "id": "f673bdb3",
   "metadata": {},
   "outputs": [],
   "source": [
    "class F1Score:\n",
    "    def __init__(self, IoU_thresh=0.5, area_thresh=1000):\n",
    "        self.true_positive = 0\n",
    "        self.false_positive = 0\n",
    "        self.truth_count = 0\n",
    "        self._iou_thresh = IoU_thresh\n",
    "        self._area_thresh = area_thresh\n",
    "        self._iou_total = 0\n",
    "        self._iou_count = 0\n",
    "\n",
    "    def update_state(self, n_truth, IoUs, areas=None):\n",
    "        if areas is not None:\n",
    "            IoUs = [i for (i, a) in zip(IoUs, areas) if a > self._area_thresh]\n",
    "        self._iou_total += sum(IoUs)\n",
    "        self._iou_count += len(IoUs)\n",
    "        n_tp = sum(1 for i in IoUs if i >= self._iou_thresh)\n",
    "        n_fp = len(IoUs) - n_tp\n",
    "        self.true_positive += n_tp\n",
    "        self.false_positive += n_fp\n",
    "        self.truth_count += n_truth\n",
    "\n",
    "    @property\n",
    "    def precision(self):\n",
    "        return self.true_positive / max(1, self.true_positive + self.false_positive)\n",
    "\n",
    "    @property\n",
    "    def recall(self):\n",
    "        return self.true_positive / max(1, self.truth_count)\n",
    "\n",
    "    @property\n",
    "    def f1(self):\n",
    "        return (2 * self.precision * self.recall) / max(1, self.precision + self.recall)\n",
    "\n",
    "    @property\n",
    "    def iou(self):\n",
    "        return self._iou_total / max(1, self._iou_count)"
   ]
  },
  {
   "cell_type": "code",
   "execution_count": 3,
   "id": "bbc8da56",
   "metadata": {},
   "outputs": [],
   "source": [
    "def read_sample(xml_file):\n",
    "    tree = ET.parse(xml_file)\n",
    "    root = tree.getroot()\n",
    "    bboxes = []\n",
    "    for object_ in root.iter('object'):\n",
    "        ymin, xmin, ymax, xmax = None, None, None, None\n",
    "        for box in object_.findall(\"bndbox\"):\n",
    "            ymin = int(box.find(\"ymin\").text)\n",
    "            xmin = int(box.find(\"xmin\").text)\n",
    "            ymax = int(box.find(\"ymax\").text)\n",
    "            xmax = int(box.find(\"xmax\").text)\n",
    "\n",
    "        bbox = [xmin, ymin, xmax, ymax] # PASCAL VOC\n",
    "        bboxes.append(bbox)\n",
    "    im_file = root.find(\"filename\").text\n",
    "    return im_file, bboxes"
   ]
  },
  {
   "cell_type": "code",
   "execution_count": 6,
   "id": "dab68a1c",
   "metadata": {},
   "outputs": [],
   "source": [
    "def load_model():\n",
    "    config_file = 'Config/cascade_mask_rcnn_hrnetv2p_w32_20e.py'\n",
    "    checkpoint_file = 'epoch_36.pth'\n",
    "    return init_detector(config_file, checkpoint_file, device='cuda:0')"
   ]
  },
  {
   "cell_type": "code",
   "execution_count": 27,
   "id": "ac255f1a",
   "metadata": {},
   "outputs": [],
   "source": [
    "def area(bbox):\n",
    "    return (bbox[2] - bbox[0]) * (bbox[3] - bbox[1])\n",
    "\n",
    "\n",
    "def detection_bbox_match(true_bbox, pred_bbox, label):\n",
    "    pred_bbox = [x[:4] for x, y in zip(pred_bbox, label) if y == 0]\n",
    "    true_matched = set()\n",
    "    ious = list()\n",
    "    for box_p in pred_bbox:\n",
    "        best_iou = 0\n",
    "        best_match = None\n",
    "        for t, box_t in enumerate(true_bbox):\n",
    "            if t in true_matched:\n",
    "                continue\n",
    "            I_xmin = max(box_p[0], box_t[0])\n",
    "            I_xmax = min(box_p[2], box_t[2])\n",
    "            I_ymin = max(box_p[1], box_t[1])\n",
    "            I_ymax = min(box_p[3], box_t[3])\n",
    "            \n",
    "            if I_xmax <= I_xmin or I_ymax <= I_ymin:\n",
    "                continue\n",
    "            I = (I_xmax - I_xmin) * (I_ymax - I_ymin)\n",
    "            \n",
    "            U = area(box_p) + area(box_t) -  I \n",
    "            this_iou = I / U\n",
    "            if this_iou > best_iou:\n",
    "                best_iou = this_iou\n",
    "                best_match = t\n",
    "        if best_match is not None:\n",
    "            ious.append(best_iou)\n",
    "            true_matched.add(best_match)\n",
    "    return ious"
   ]
  },
  {
   "cell_type": "code",
   "execution_count": 49,
   "id": "85440e73",
   "metadata": {},
   "outputs": [],
   "source": [
    "color_map = {\n",
    "    0: 'red', \n",
    "    1: 'green',   # cell\n",
    "    2: 'blue',  # table (bordered)\n",
    "}\n",
    "\n",
    "def show_results(bbox, labels, im_file, out_file):\n",
    "    im = Image.open(im_file)\n",
    "    draw = ImageDraw.Draw(im)\n",
    "    for box, label in zip(bbox, labels):\n",
    "        draw.rectangle(box[:4], outline=color_map[label], width=5)\n",
    "    im.save(out_file)"
   ]
  },
  {
   "cell_type": "code",
   "execution_count": 12,
   "id": "e97b7813",
   "metadata": {},
   "outputs": [],
   "source": [
    "model = load_model()"
   ]
  },
  {
   "cell_type": "code",
   "execution_count": 44,
   "id": "22334cad",
   "metadata": {},
   "outputs": [],
   "source": [
    "DATA_PATH = \"/home/ubuntu/detection\"\n",
    "OUT_PATH = \"/home/ubuntu/cascade_out\"\n",
    "\n",
    "test_set = list()\n",
    "with open(f\"{DATA_PATH}/test_filelist.txt\") as fp:\n",
    "    for line in fp:\n",
    "        test_set.append(line.strip())"
   ]
  },
  {
   "cell_type": "code",
   "execution_count": 51,
   "id": "b0c0d1c8",
   "metadata": {},
   "outputs": [
    {
     "name": "stderr",
     "output_type": "stream",
     "text": [
      "  0%|                                                                                                                                                     | 0/3809 [00:00<?, ?it/s]/home/ubuntu/anaconda3/envs/table/lib/python3.7/site-packages/torch/nn/functional.py:2506: UserWarning: Default upsampling behavior when mode=bilinear is changed to align_corners=False since 0.4.0. Please specify align_corners=True if the old behavior is desired. See the documentation of nn.Upsample for details.\n",
      "  \"See the documentation of nn.Upsample for details.\".format(mode))\n",
      "100%|████████████████████████████████████████████████████████████████████████████████████████████████████████████████████████████████████████| 3809/3809 [1:00:16<00:00,  1.05it/s]\n"
     ]
    }
   ],
   "source": [
    "metrics = [F1Score(0.5), F1Score(0.75), F1Score(0.95)]\n",
    "for xml_file in tqdm(test_set):\n",
    "    page_id, true_bboxes = read_sample(f\"{DATA_PATH}/{xml_file}\")\n",
    "    im_file = f\"{DATA_PATH}/images/{page_id}\"\n",
    "    # Run Inference\n",
    "    result = inference_detector(model, im_file)\n",
    "\n",
    "    bbox_result, _ = result\n",
    "    labels = [np.full(bbox.shape[0], i, dtype=np.int32) \n",
    "            for i, bbox in enumerate(bbox_result)]\n",
    "    labels = np.concatenate(labels).tolist()\n",
    "    bboxes = np.vstack(bbox_result).tolist()\n",
    "    IoUs = detection_bbox_match(true_bboxes, bboxes, labels)\n",
    "    for m in metrics:\n",
    "        m.update_state(n_truth=len(true_bboxes), IoUs=IoUs)\n",
    "    show_results(bboxes, labels, im_file, f\"{OUT_PATH}/detection/{page_id}\")"
   ]
  },
  {
   "cell_type": "code",
   "execution_count": 52,
   "id": "38a6767e",
   "metadata": {},
   "outputs": [
    {
     "name": "stdout",
     "output_type": "stream",
     "text": [
      "0.9807787087235091 0.1587554846429996 0.2732765723702279\n",
      "0.9615574174470183 0.1556441962504986 0.2679209008514144\n",
      "0.6604238541153278 0.10690067810131632 0.14119951567842667\n"
     ]
    }
   ],
   "source": [
    "# for m in metrics:\n",
    "#     print(m.precision, m.recall, m.f1)\n",
    "\n",
    "# # 0.9807787087235091 0.1587554846429996 0.2732765723702279\n",
    "# # 0.9615574174470183 0.1556441962504986 0.2679209008514144\n",
    "# # 0.6604238541153278 0.10690067810131632 0.14119951567842667"
   ]
  },
  {
   "cell_type": "code",
   "execution_count": null,
   "id": "027f5b9b",
   "metadata": {},
   "outputs": [],
   "source": []
  }
 ],
 "metadata": {
  "kernelspec": {
   "display_name": "Python 3",
   "language": "python",
   "name": "python3"
  },
  "language_info": {
   "codemirror_mode": {
    "name": "ipython",
    "version": 3
   },
   "file_extension": ".py",
   "mimetype": "text/x-python",
   "name": "python",
   "nbconvert_exporter": "python",
   "pygments_lexer": "ipython3",
   "version": "3.6.10"
  }
 },
 "nbformat": 4,
 "nbformat_minor": 5
}
